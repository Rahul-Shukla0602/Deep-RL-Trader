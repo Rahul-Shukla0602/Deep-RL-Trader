{
 "cells": [
  {
   "cell_type": "code",
   "execution_count": 1,
   "metadata": {},
   "outputs": [],
   "source": [
    "import numpy as np\n",
    "import pandas as pd"
   ]
  },
  {
   "cell_type": "code",
   "execution_count": 2,
   "metadata": {},
   "outputs": [],
   "source": [
    "raw_amount = pd.read_csv('./sh000016/i_amount.csv', header=0, index_col=0).values\n",
    "raw_buy = pd.read_csv('./sh000016/o_buy.csv', header=0, index_col=0).values\n",
    "raw_sell = pd.read_csv('./sh000016/o_sell.csv', header=0, index_col=0).values"
   ]
  },
  {
   "cell_type": "code",
   "execution_count": 3,
   "metadata": {},
   "outputs": [
    {
     "data": {
      "text/plain": [
       "array([[ 396491,  132215,   35600, ...,  592700,   38000, 1578300],\n",
       "       [  35318,   26200,    8400, ...,   49400,   19500,   93600],\n",
       "       [  32608,   23200,    7300, ...,    7200,    5900,   20400],\n",
       "       ...,\n",
       "       [   8559,    1300,     600, ...,     300,    4400,     100],\n",
       "       [   3318,    1500,       0, ...,   19200,     400,     200],\n",
       "       [   4831,    2800,     300, ...,    2300,    1300,   10100]])"
      ]
     },
     "execution_count": 3,
     "metadata": {},
     "output_type": "execute_result"
    }
   ],
   "source": [
    "raw_amount"
   ]
  }
 ],
 "metadata": {
  "kernelspec": {
   "display_name": "Python 3",
   "language": "python",
   "name": "python3"
  },
  "language_info": {
   "codemirror_mode": {
    "name": "ipython",
    "version": 3
   },
   "file_extension": ".py",
   "mimetype": "text/x-python",
   "name": "python",
   "nbconvert_exporter": "python",
   "pygments_lexer": "ipython3",
   "version": "3.11.1"
  }
 },
 "nbformat": 4,
 "nbformat_minor": 2
}
